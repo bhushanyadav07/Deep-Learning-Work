{
  "nbformat": 4,
  "nbformat_minor": 0,
  "metadata": {
    "colab": {
      "name": "MNIST digit data",
      "provenance": [],
      "collapsed_sections": [],
      "toc_visible": true
    },
    "kernelspec": {
      "display_name": "Python 3",
      "name": "python3"
    }
  },
  "cells": [
    {
      "cell_type": "markdown",
      "metadata": {
        "colab_type": "text",
        "id": "5fCEDCU_qrC0"
      },
      "source": [
        "<p><img alt=\"Colaboratory logo\" height=\"45px\" src=\"/img/colab_favicon.ico\" align=\"left\" hspace=\"10px\" vspace=\"0px\"></p>\n",
        "\n",
        "<h1>Welcome to Colaboratory!</h1>\n",
        "\n",
        "\n",
        "Colaboratory is a free Jupyter notebook environment that requires no setup and runs entirely in the cloud.\n",
        "\n",
        "With Colaboratory you can write and execute code, save and share your analyses, and access powerful computing resources, all for free from your browser."
      ]
    },
    {
      "cell_type": "code",
      "metadata": {
        "colab_type": "code",
        "id": "xitplqMNk_Hc",
        "outputId": "104da095-1cf6-4b2f-ea83-d51d386e1c73",
        "colab": {
          "base_uri": "https://localhost:8080/",
          "height": 421
        }
      },
      "source": [
        "#@title Introducing Colaboratory { display-mode: \"form\" }\n",
        "#@markdown This 3-minute video gives an overview of the key features of Colaboratory:\n",
        "from IPython.display import YouTubeVideo\n",
        "YouTubeVideo('inN8seMm7UI', width=600, height=400)"
      ],
      "execution_count": 0,
      "outputs": [
        {
          "output_type": "execute_result",
          "data": {
            "text/html": [
              "\n",
              "        <iframe\n",
              "            width=\"600\"\n",
              "            height=\"400\"\n",
              "            src=\"https://www.youtube.com/embed/inN8seMm7UI\"\n",
              "            frameborder=\"0\"\n",
              "            allowfullscreen\n",
              "        ></iframe>\n",
              "        "
            ],
            "text/plain": [
              "<IPython.lib.display.YouTubeVideo at 0x7f6adf189c88>"
            ],
            "image/jpeg": "[encoded data removed]"
          },
          "metadata": {
            "tags": []
          },
          "execution_count": 34
        }
      ]
    },
    {
      "cell_type": "markdown",
      "metadata": {
        "colab_type": "text",
        "id": "GJBs_flRovLc"
      },
      "source": [
        "## Getting Started\n",
        "\n",
        "The document you are reading is a  [Jupyter notebook](https://jupyter.org/), hosted in Colaboratory. It is not a static page, but an interactive environment that lets you write and execute code in Python and other languages.\n",
        "\n",
        "For example, here is a **code cell** with a short Python script that computes a value, stores it in a variable, and prints the result:"
      ]
    },
    {
      "cell_type": "code",
      "metadata": {
        "colab_type": "code",
        "id": "gJr_9dXGpJ05",
        "outputId": "58acc3b5-9004-459e-bf61-fdc8649b3d69",
        "colab": {
          "base_uri": "https://localhost:8080/",
          "height": 34
        }
      },
      "source": [
        "seconds_in_a_day = 24 * 60 * 60\n",
        "seconds_in_a_day"
      ],
      "execution_count": 0,
      "outputs": [
        {
          "output_type": "execute_result",
          "data": {
            "text/plain": [
              "86400"
            ]
          },
          "metadata": {
            "tags": []
          },
          "execution_count": 35
        }
      ]
    },
    {
      "cell_type": "markdown",
      "metadata": {
        "colab_type": "text",
        "id": "2fhs6GZ4qFMx"
      },
      "source": [
        "To execute the code in the above cell, select it with a click and then either press the play button to the left of the code, or use the keyboard shortcut \"Command/Ctrl+Enter\".\n",
        "\n",
        "All cells modify the same global state, so variables that you define by executing a cell can be used in other cells:"
      ]
    },
    {
      "cell_type": "code",
      "metadata": {
        "colab_type": "code",
        "id": "-gE-Ez1qtyIA",
        "outputId": "c17b8112-9b41-4c1b-c6cc-33857b671e83",
        "colab": {
          "base_uri": "https://localhost:8080/",
          "height": 34
        }
      },
      "source": [
        "seconds_in_a_week = 7 * seconds_in_a_day\n",
        "seconds_in_a_week"
      ],
      "execution_count": 0,
      "outputs": [
        {
          "output_type": "execute_result",
          "data": {
            "text/plain": [
              "604800"
            ]
          },
          "metadata": {
            "tags": []
          },
          "execution_count": 36
        }
      ]
    },
    {
      "cell_type": "markdown",
      "metadata": {
        "colab_type": "text",
        "id": "lSrWNr3MuFUS"
      },
      "source": [
        "For more information about working with Colaboratory notebooks, see [Overview of Colaboratory](/notebooks/basic_features_overview.ipynb).\n"
      ]
    },
    {
      "cell_type": "markdown",
      "metadata": {
        "colab_type": "text",
        "id": "-Rh3-Vt9Nev9"
      },
      "source": [
        "## More Resources\n",
        "\n",
        "Learn how to make the most of Python, Jupyter, Colaboratory, and related tools with these resources:\n",
        "\n",
        "### Working with Notebooks in Colaboratory\n",
        "- [Overview of Colaboratory](/notebooks/basic_features_overview.ipynb)\n",
        "- [Guide to Markdown](/notebooks/markdown_guide.ipynb)\n",
        "- [Importing libraries and installing dependencies](/notebooks/snippets/importing_libraries.ipynb)\n",
        "- [Saving and loading notebooks in GitHub](https://colab.research.google.com/github/googlecolab/colabtools/blob/master/notebooks/colab-github-demo.ipynb)\n",
        "- [Interactive forms](/notebooks/forms.ipynb)\n",
        "- [Interactive widgets](/notebooks/widgets.ipynb)\n",
        "- <img src=\"/img/new.png\" height=\"20px\" align=\"left\" hspace=\"4px\" alt=\"New\"></img>\n",
        " [TensorFlow 2 in Colab](/notebooks/tensorflow_version.ipynb)\n",
        "\n",
        "### Working with Data\n",
        "- [Loading data: Drive, Sheets, and Google Cloud Storage](/notebooks/io.ipynb) \n",
        "- [Charts: visualizing data](/notebooks/charts.ipynb)\n",
        "- [Getting started with BigQuery](/notebooks/bigquery.ipynb)\n",
        "\n",
        "### Machine Learning Crash Course\n",
        "These are a few of the notebooks from Google's online Machine Learning course. See the [full course website](https://developers.google.com/machine-learning/crash-course/) for more.\n",
        "- [Intro to Pandas](/notebooks/mlcc/intro_to_pandas.ipynb)\n",
        "- [Tensorflow concepts](/notebooks/mlcc/tensorflow_programming_concepts.ipynb)\n",
        "- [First steps with TensorFlow](/notebooks/mlcc/first_steps_with_tensor_flow.ipynb)\n",
        "- [Intro to neural nets](/notebooks/mlcc/intro_to_neural_nets.ipynb)\n",
        "- [Intro to sparse data and embeddings](/notebooks/mlcc/intro_to_sparse_data_and_embeddings.ipynb)\n",
        "\n",
        "### Using Accelerated Hardware\n",
        "- [TensorFlow with GPUs](/notebooks/gpu.ipynb)\n",
        "- [TensorFlow with TPUs](/notebooks/tpu.ipynb)"
      ]
    },
    {
      "cell_type": "markdown",
      "metadata": {
        "colab_type": "text",
        "id": "P-H6Lw1vyNNd"
      },
      "source": [
        "## Machine Learning Examples: Seedbank\n",
        "\n",
        "To see end-to-end examples of the interactive machine learning analyses that Colaboratory makes possible, check out the [Seedbank](https://research.google.com/seedbank/) project.\n",
        "\n",
        "A few featured examples:\n",
        "\n",
        "- [Neural Style Transfer](https://research.google.com/seedbank/seed/neural_style_transfer_with_tfkeras): Use deep learning to transfer style between images.\n",
        "- [EZ NSynth](https://research.google.com/seedbank/seed/ez_nsynth): Synthesize audio with WaveNet auto-encoders.\n",
        "- [Fashion MNIST with Keras and TPUs](https://research.google.com/seedbank/seed/fashion_mnist_with_keras_and_tpus): Classify fashion-related images with deep learning.\n",
        "- [DeepDream](https://research.google.com/seedbank/seed/deepdream): Produce DeepDream images from your own photos.\n",
        "- [Convolutional VAE](https://research.google.com/seedbank/seed/convolutional_vae): Create a generative model of handwritten digits."
      ]
    },
    {
      "cell_type": "code",
      "metadata": {
        "id": "3Lpmqaa9zTyv",
        "colab_type": "code",
        "colab": {}
      },
      "source": [
        "from keras.datasets import mnist\n",
        "import keras.utils.np_utils as ku\n",
        "import keras.models as models\n",
        "import keras.layers as layers\n",
        "from keras import regularizers\n",
        "from keras.optimizers import rmsprop\n",
        "import numpy as np\n",
        "import numpy.random as nr\n",
        "from tensorflow import set_random_seed\n",
        "import matplotlib.pyplot as plt\n",
        "%matplotlib inline"
      ],
      "execution_count": 0,
      "outputs": []
    },
    {
      "cell_type": "code",
      "metadata": {
        "id": "t6s0Z9DvzfBk",
        "colab_type": "code",
        "colab": {}
      },
      "source": [
        "(train_images, train_labels),(test_images, test_labels) = mnist.load_data()"
      ],
      "execution_count": 0,
      "outputs": []
    },
    {
      "cell_type": "code",
      "metadata": {
        "id": "GCgf9mx5zfgj",
        "colab_type": "code",
        "outputId": "e4a90e37-4c74-48f8-948a-7c7742966292",
        "colab": {
          "base_uri": "https://localhost:8080/",
          "height": 34
        }
      },
      "source": [
        "print(train_images[4].shape)"
      ],
      "execution_count": 0,
      "outputs": [
        {
          "output_type": "stream",
          "text": [
            "(28, 28)\n"
          ],
          "name": "stdout"
        }
      ]
    },
    {
      "cell_type": "code",
      "metadata": {
        "id": "i_shyE82zfm0",
        "colab_type": "code",
        "outputId": "86cc8e39-64ca-4798-d7c6-9c666f349565",
        "colab": {
          "base_uri": "https://localhost:8080/",
          "height": 1000
        }
      },
      "source": [
        "for i in range(5, 20, 4):\n",
        "  plt.imshow(train_images[i], cmap=plt.cm.binary)\n",
        "  plt.show()\n",
        "  print('labels =' + str(train_labels[i]))"
      ],
      "execution_count": 0,
      "outputs": [
        {
          "output_type": "display_data",
          "data": {
            "image/png": "[encoded data removed]",
            "text/plain": [
              "<Figure size 432x288 with 1 Axes>"
            ]
          },
          "metadata": {
            "tags": []
          }
        },
        {
          "output_type": "stream",
          "text": [
            "labels =2\n"
          ],
          "name": "stdout"
        },
        {
          "output_type": "display_data",
          "data": {
            "image/png": "[encoded data removed]",
            "text/plain": [
              "<Figure size 432x288 with 1 Axes>"
            ]
          },
          "metadata": {
            "tags": []
          }
        },
        {
          "output_type": "stream",
          "text": [
            "labels =4\n"
          ],
          "name": "stdout"
        },
        {
          "output_type": "display_data",
          "data": {
            "image/png": "[encoded data removed]",
            "text/plain": [
              "<Figure size 432x288 with 1 Axes>"
            ]
          },
          "metadata": {
            "tags": []
          }
        },
        {
          "output_type": "stream",
          "text": [
            "labels =6\n"
          ],
          "name": "stdout"
        },
        {
          "output_type": "display_data",
          "data": {
            "image/png": "[encoded data removed]",
            "text/plain": [
              "<Figure size 432x288 with 1 Axes>"
            ]
          },
          "metadata": {
            "tags": []
          }
        },
        {
          "output_type": "stream",
          "text": [
            "labels =8\n"
          ],
          "name": "stdout"
        }
      ]
    },
    {
      "cell_type": "code",
      "metadata": {
        "id": "tC8Obu5Azfkn",
        "colab_type": "code",
        "outputId": "b4739964-9cb5-4218-968a-4fb367b44431",
        "colab": {
          "base_uri": "https://localhost:8080/",
          "height": 67
        }
      },
      "source": [
        "#reshaping the train flattened images 60000 by 784\n",
        "print(train_images.shape, train_labels.shape)\n",
        "train_images = train_images.reshape((60000, 28*28)).astype('float32')/255\n",
        "print(train_images.shape)\n",
        "print(train_images.dtype)"
      ],
      "execution_count": 0,
      "outputs": [
        {
          "output_type": "stream",
          "text": [
            "(60000, 28, 28) (60000,)\n",
            "(60000, 784)\n",
            "float32\n"
          ],
          "name": "stdout"
        }
      ]
    },
    {
      "cell_type": "code",
      "metadata": {
        "id": "v0C6hLtM64GB",
        "colab_type": "code",
        "outputId": "6a642ed6-fae1-4a49-a9dd-f8196678de98",
        "colab": {
          "base_uri": "https://localhost:8080/",
          "height": 67
        }
      },
      "source": [
        "#same for the test_images\n",
        "print(test_images.shape, test_labels.shape)\n",
        "test_images = test_images.reshape((10000, 28*28)).astype('float32')/255\n",
        "print(test_images.shape)\n",
        "print(test_images.dtype)"
      ],
      "execution_count": 0,
      "outputs": [
        {
          "output_type": "stream",
          "text": [
            "(10000, 28, 28) (10000,)\n",
            "(10000, 784)\n",
            "float32\n"
          ],
          "name": "stdout"
        }
      ]
    },
    {
      "cell_type": "code",
      "metadata": {
        "id": "nB9GIQhm8aMr",
        "colab_type": "code",
        "outputId": "9fd99bdb-94bb-4c8a-bce0-284885e2eb49",
        "colab": {
          "base_uri": "https://localhost:8080/",
          "height": 34
        }
      },
      "source": [
        "#we are working on a classification problem, the label values must be of a categorical type\n",
        "print(train_labels[5:,])"
      ],
      "execution_count": 0,
      "outputs": [
        {
          "output_type": "stream",
          "text": [
            "[2 1 3 ... 5 6 8]\n"
          ],
          "name": "stdout"
        }
      ]
    },
    {
      "cell_type": "code",
      "metadata": {
        "id": "lFbdG2hJ9N6Y",
        "colab_type": "code",
        "outputId": "da78a0b8-a39c-455d-f927-847c48efdfc6",
        "colab": {
          "base_uri": "https://localhost:8080/",
          "height": 134
        }
      },
      "source": [
        "#so the value coded as integers, these value must be coecered in a categorical type\n",
        "train_labels = ku.to_categorical(train_labels)\n",
        "print(train_labels[5:,])\n",
        "#label values have been converted from integers to a set of 10 dummy variables of the one hot encoding."
      ],
      "execution_count": 0,
      "outputs": [
        {
          "output_type": "stream",
          "text": [
            "[[0. 0. 1. ... 0. 0. 0.]\n",
            " [0. 1. 0. ... 0. 0. 0.]\n",
            " [0. 0. 0. ... 0. 0. 0.]\n",
            " ...\n",
            " [0. 0. 0. ... 0. 0. 0.]\n",
            " [0. 0. 0. ... 0. 0. 0.]\n",
            " [0. 0. 0. ... 0. 1. 0.]]\n"
          ],
          "name": "stdout"
        }
      ]
    },
    {
      "cell_type": "code",
      "metadata": {
        "id": "aLL7ajla-kLM",
        "colab_type": "code",
        "outputId": "044eed77-c945-4ea8-f78b-57b60fa2f12d",
        "colab": {
          "base_uri": "https://localhost:8080/",
          "height": 134
        }
      },
      "source": [
        "#same for test_labels\n",
        "test_labels = ku.to_categorical(test_labels)\n",
        "print(test_labels[5:,])"
      ],
      "execution_count": 0,
      "outputs": [
        {
          "output_type": "stream",
          "text": [
            "[[0. 1. 0. ... 0. 0. 0.]\n",
            " [0. 0. 0. ... 0. 0. 0.]\n",
            " [0. 0. 0. ... 0. 0. 1.]\n",
            " ...\n",
            " [0. 0. 0. ... 0. 0. 0.]\n",
            " [0. 0. 0. ... 0. 0. 0.]\n",
            " [0. 0. 0. ... 0. 0. 0.]]\n"
          ],
          "name": "stdout"
        }
      ]
    },
    {
      "cell_type": "code",
      "metadata": {
        "id": "QxnplngS_V9P",
        "colab_type": "code",
        "colab": {}
      },
      "source": [
        "#Defining the sequential model\n",
        "aa = models.Sequential()\n",
        "aa.add(layers.Dense(512, activation='relu', input_shape = (28*28, )))\n",
        "aa.add(layers.Dense(10, activation= 'softmax'))"
      ],
      "execution_count": 0,
      "outputs": []
    },
    {
      "cell_type": "code",
      "metadata": {
        "id": "WmLtkBubKT46",
        "colab_type": "code",
        "colab": {}
      },
      "source": [
        "aa.compile(optimizer = 'rmsprop' , loss = 'categorical_crossentropy', metrics = ['accuracy'])"
      ],
      "execution_count": 0,
      "outputs": []
    },
    {
      "cell_type": "code",
      "metadata": {
        "id": "PI0_qhAEX4mk",
        "colab_type": "code",
        "outputId": "bfaf5329-60d4-4671-cae2-72cebc5eb531",
        "colab": {
          "base_uri": "https://localhost:8080/",
          "height": 390
        }
      },
      "source": [
        "aa.fit(train_images, train_labels, epochs = 5, batch_size = 128)"
      ],
      "execution_count": 0,
      "outputs": [
        {
          "output_type": "stream",
          "text": [
            "Epoch 1/5\n",
            "WARNING:tensorflow:From /usr/local/lib/python3.6/dist-packages/keras/backend/tensorflow_backend.py:190: The name tf.get_default_session is deprecated. Please use tf.compat.v1.get_default_session instead.\n",
            "\n",
            "WARNING:tensorflow:From /usr/local/lib/python3.6/dist-packages/keras/backend/tensorflow_backend.py:197: The name tf.ConfigProto is deprecated. Please use tf.compat.v1.ConfigProto instead.\n",
            "\n",
            "WARNING:tensorflow:From /usr/local/lib/python3.6/dist-packages/keras/backend/tensorflow_backend.py:207: The name tf.global_variables is deprecated. Please use tf.compat.v1.global_variables instead.\n",
            "\n",
            "WARNING:tensorflow:From /usr/local/lib/python3.6/dist-packages/keras/backend/tensorflow_backend.py:216: The name tf.is_variable_initialized is deprecated. Please use tf.compat.v1.is_variable_initialized instead.\n",
            "\n",
            "WARNING:tensorflow:From /usr/local/lib/python3.6/dist-packages/keras/backend/tensorflow_backend.py:223: The name tf.variables_initializer is deprecated. Please use tf.compat.v1.variables_initializer instead.\n",
            "\n",
            "60000/60000 [==============================] - 6s 100us/step - loss: 0.2597 - acc: 0.9240\n",
            "Epoch 2/5\n",
            "60000/60000 [==============================] - 5s 87us/step - loss: 0.1044 - acc: 0.9691\n",
            "Epoch 3/5\n",
            "60000/60000 [==============================] - 5s 89us/step - loss: 0.0695 - acc: 0.9793\n",
            "Epoch 4/5\n",
            "60000/60000 [==============================] - 5s 87us/step - loss: 0.0507 - acc: 0.9847\n",
            "Epoch 5/5\n",
            "60000/60000 [==============================] - 5s 85us/step - loss: 0.0381 - acc: 0.9882\n"
          ],
          "name": "stdout"
        },
        {
          "output_type": "execute_result",
          "data": {
            "text/plain": [
              "<keras.callbacks.History at 0x7f6adc91fd68>"
            ]
          },
          "metadata": {
            "tags": []
          },
          "execution_count": 60
        }
      ]
    },
    {
      "cell_type": "code",
      "metadata": {
        "id": "HXlJV5IMZoOy",
        "colab_type": "code",
        "outputId": "a2a3b516-332a-401d-ccc3-ee49444f4ce4",
        "colab": {
          "base_uri": "https://localhost:8080/",
          "height": 50
        }
      },
      "source": [
        "#comparing with the train accuracy\n",
        "aa.evaluate(test_images, test_labels)"
      ],
      "execution_count": 0,
      "outputs": [
        {
          "output_type": "stream",
          "text": [
            "10000/10000 [==============================] - 1s 54us/step\n"
          ],
          "name": "stdout"
        },
        {
          "output_type": "execute_result",
          "data": {
            "text/plain": [
              "[0.06602036722257908, 0.9806]"
            ]
          },
          "metadata": {
            "tags": []
          },
          "execution_count": 62
        }
      ]
    },
    {
      "cell_type": "code",
      "metadata": {
        "id": "W_OViHYJgy9P",
        "colab_type": "code",
        "outputId": "47005bb5-0600-469d-93d9-0d10187faa8f",
        "colab": {
          "base_uri": "https://localhost:8080/",
          "height": 370
        }
      },
      "source": [
        "#Training over epochs\n",
        "aa = models.Sequential()\n",
        "aa.add(layers.Dense(512, activation='relu', input_shape = (28*28, )))\n",
        "aa.add(layers.Dense(10, activation= 'softmax'))\n",
        "aa.compile(optimizer = 'rmsprop' , loss = 'categorical_crossentropy', metrics = ['accuracy'])\n",
        "# Fit the model saving the results to a history file \n",
        "history = aa.fit(train_images, train_labels, epochs = 10, batch_size = 128, \n",
        "                 validation_data= (test_images, test_labels))"
      ],
      "execution_count": 0,
      "outputs": [
        {
          "output_type": "stream",
          "text": [
            "Train on 60000 samples, validate on 10000 samples\n",
            "Epoch 1/10\n",
            "60000/60000 [==============================] - 6s 94us/step - loss: 0.2614 - acc: 0.9236 - val_loss: 0.1295 - val_acc: 0.9620\n",
            "Epoch 2/10\n",
            "60000/60000 [==============================] - 5s 89us/step - loss: 0.1089 - acc: 0.9677 - val_loss: 0.1061 - val_acc: 0.9676\n",
            "Epoch 3/10\n",
            "60000/60000 [==============================] - 5s 89us/step - loss: 0.0722 - acc: 0.9787 - val_loss: 0.0803 - val_acc: 0.9768\n",
            "Epoch 4/10\n",
            "60000/60000 [==============================] - 6s 92us/step - loss: 0.0527 - acc: 0.9840 - val_loss: 0.0737 - val_acc: 0.9779\n",
            "Epoch 5/10\n",
            "60000/60000 [==============================] - 5s 90us/step - loss: 0.0403 - acc: 0.9880 - val_loss: 0.0689 - val_acc: 0.9793\n",
            "Epoch 6/10\n",
            "60000/60000 [==============================] - 5s 88us/step - loss: 0.0310 - acc: 0.9906 - val_loss: 0.0688 - val_acc: 0.9804\n",
            "Epoch 7/10\n",
            "60000/60000 [==============================] - 5s 89us/step - loss: 0.0240 - acc: 0.9929 - val_loss: 0.0713 - val_acc: 0.9805\n",
            "Epoch 8/10\n",
            "60000/60000 [==============================] - 6s 94us/step - loss: 0.0185 - acc: 0.9945 - val_loss: 0.0748 - val_acc: 0.9793\n",
            "Epoch 9/10\n",
            "60000/60000 [==============================] - 6s 95us/step - loss: 0.0149 - acc: 0.9958 - val_loss: 0.0760 - val_acc: 0.9800\n",
            "Epoch 10/10\n",
            "60000/60000 [==============================] - 5s 88us/step - loss: 0.0114 - acc: 0.9965 - val_loss: 0.0761 - val_acc: 0.9804\n"
          ],
          "name": "stdout"
        }
      ]
    },
    {
      "cell_type": "code",
      "metadata": {
        "id": "PUZdFv9UjMIz",
        "colab_type": "code",
        "outputId": "de766e72-88f9-4985-fc3f-60a16b1b7032",
        "colab": {
          "base_uri": "https://localhost:8080/",
          "height": 295
        }
      },
      "source": [
        "#plot\n",
        "def plot_loss(history):\n",
        "    train_loss = history.history['loss']\n",
        "    test_loss = history.history['val_loss']\n",
        "    x = list(range(1, len(test_loss) + 1))\n",
        "    plt.plot(x, test_loss, color = 'red', label = 'test loss')\n",
        "    plt.plot(x, train_loss, label = 'traning loss')\n",
        "    plt.xlabel('Epoch')\n",
        "    plt.ylabel('Loss')\n",
        "    plt.title('Loss vs. Epoch')\n",
        "    plt.legend()\n",
        "    \n",
        "plot_loss(history)"
      ],
      "execution_count": 0,
      "outputs": [
        {
          "output_type": "display_data",
          "data": {
            "image/png": "[encoded data removed]",
            "text/plain": [
              "<Figure size 432x288 with 1 Axes>"
            ]
          },
          "metadata": {
            "tags": []
          }
        }
      ]
    },
    {
      "cell_type": "code",
      "metadata": {
        "id": "KTqYLPx2knak",
        "colab_type": "code",
        "outputId": "a2d18be1-2b01-4342-e8ab-222bdc675453",
        "colab": {
          "base_uri": "https://localhost:8080/",
          "height": 295
        }
      },
      "source": [
        "def plot_accuracy(history):\n",
        "    train_acc = history.history['acc']\n",
        "    test_acc = history.history['val_acc']\n",
        "    x = list(range(1, len(test_acc) + 1))\n",
        "    plt.plot(x, test_acc, color = 'red', label = 'test accuracy')\n",
        "    plt.plot(x, train_acc, label = 'training accuracy')  \n",
        "    plt.xlabel('Epoch')\n",
        "    plt.ylabel('Accuracy')\n",
        "    plt.title('Accuracy vs. Epoch')  \n",
        "    plt.legend(loc='lower right')\n",
        "    \n",
        "plot_accuracy(history)"
      ],
      "execution_count": 0,
      "outputs": [
        {
          "output_type": "display_data",
          "data": {
            "image/png": "[encoded data removed]",
            "text/plain": [
              "<Figure size 432x288 with 1 Axes>"
            ]
          },
          "metadata": {
            "tags": []
          }
        }
      ]
    },
    {
      "cell_type": "code",
      "metadata": {
        "id": "9QS7itYknI3g",
        "colab_type": "code",
        "outputId": "5ddd8ab0-863d-404d-f8fc-71f39785d1fa",
        "colab": {
          "base_uri": "https://localhost:8080/",
          "height": 370
        }
      },
      "source": [
        "#Adding regularization to the model\n",
        "aa = models.Sequential()\n",
        "aa.add(layers.Dense(512, activation='relu', input_shape = (28*28, ),kernel_regularizer=regularizers.l2(0.001)))\n",
        "aa.add(layers.Dense(10, activation= 'softmax'))\n",
        "aa.compile(optimizer = 'rmsprop' , loss = 'categorical_crossentropy', metrics = ['accuracy'])\n",
        "# Fit the model saving the results to a history file \n",
        "history = aa.fit(train_images, train_labels, epochs = 10, batch_size = 128, \n",
        "                 validation_data= (test_images, test_labels))"
      ],
      "execution_count": 0,
      "outputs": [
        {
          "output_type": "stream",
          "text": [
            "Train on 60000 samples, validate on 10000 samples\n",
            "Epoch 1/10\n",
            "60000/60000 [==============================] - 6s 108us/step - loss: 0.4974 - acc: 0.9158 - val_loss: 0.3139 - val_acc: 0.9430\n",
            "Epoch 2/10\n",
            "60000/60000 [==============================] - 6s 106us/step - loss: 0.2487 - acc: 0.9575 - val_loss: 0.2136 - val_acc: 0.9592\n",
            "Epoch 3/10\n",
            "60000/60000 [==============================] - 6s 101us/step - loss: 0.2015 - acc: 0.9638 - val_loss: 0.1795 - val_acc: 0.9686\n",
            "Epoch 4/10\n",
            "60000/60000 [==============================] - 6s 98us/step - loss: 0.1802 - acc: 0.9678 - val_loss: 0.1740 - val_acc: 0.9680\n",
            "Epoch 5/10\n",
            "60000/60000 [==============================] - 6s 97us/step - loss: 0.1687 - acc: 0.9702 - val_loss: 0.1740 - val_acc: 0.9659\n",
            "Epoch 6/10\n",
            "60000/60000 [==============================] - 6s 97us/step - loss: 0.1593 - acc: 0.9718 - val_loss: 0.1500 - val_acc: 0.9730\n",
            "Epoch 7/10\n",
            "60000/60000 [==============================] - 6s 98us/step - loss: 0.1531 - acc: 0.9736 - val_loss: 0.1692 - val_acc: 0.9673\n",
            "Epoch 8/10\n",
            "60000/60000 [==============================] - 6s 97us/step - loss: 0.1487 - acc: 0.9742 - val_loss: 0.1525 - val_acc: 0.9720\n",
            "Epoch 9/10\n",
            "60000/60000 [==============================] - 6s 96us/step - loss: 0.1440 - acc: 0.9749 - val_loss: 0.1521 - val_acc: 0.9720\n",
            "Epoch 10/10\n",
            "60000/60000 [==============================] - 6s 96us/step - loss: 0.1403 - acc: 0.9754 - val_loss: 0.1405 - val_acc: 0.9748\n"
          ],
          "name": "stdout"
        }
      ]
    },
    {
      "cell_type": "code",
      "metadata": {
        "id": "_dKxo5y8oAtC",
        "colab_type": "code",
        "outputId": "66b642cf-08d2-422e-ca48-653fdfef10e9",
        "colab": {
          "base_uri": "https://localhost:8080/",
          "height": 295
        }
      },
      "source": [
        "plot_loss(history)"
      ],
      "execution_count": 0,
      "outputs": [
        {
          "output_type": "display_data",
          "data": {
            "image/png": "[encoded data removed]",
            "text/plain": [
              "<Figure size 432x288 with 1 Axes>"
            ]
          },
          "metadata": {
            "tags": []
          }
        }
      ]
    },
    {
      "cell_type": "code",
      "metadata": {
        "id": "YJyA-9Uoo6wU",
        "colab_type": "code",
        "outputId": "d464f2ec-d8ea-4ff8-9b14-f603b8d7f91a",
        "colab": {
          "base_uri": "https://localhost:8080/",
          "height": 295
        }
      },
      "source": [
        "plot_accuracy(history)"
      ],
      "execution_count": 0,
      "outputs": [
        {
          "output_type": "display_data",
          "data": {
            "image/png": "[encoded data removed]",
            "text/plain": [
              "<Figure size 432x288 with 1 Axes>"
            ]
          },
          "metadata": {
            "tags": []
          }
        }
      ]
    }
  ]
}