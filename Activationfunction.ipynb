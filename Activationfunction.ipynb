{
  "nbformat": 4,
  "nbformat_minor": 0,
  "metadata": {
    "colab": {
      "name": "Activationfunction.ipynb",
      "provenance": [],
      "authorship_tag": "ABX9TyNqXANxHdZuM74BHvyrZkob",
      "include_colab_link": true
    },
    "kernelspec": {
      "name": "python3",
      "display_name": "Python 3"
    }
  },
  "cells": [
    {
      "cell_type": "markdown",
      "metadata": {
        "id": "view-in-github",
        "colab_type": "text"
      },
      "source": [
        "<a href=\"https://colab.research.google.com/github/bhushanyadav07/Deep-Learning-Work/blob/master/Activationfunction.ipynb\" target=\"_parent\"><img src=\"https://colab.research.google.com/assets/colab-badge.svg\" alt=\"Open In Colab\"/></a>"
      ]
    },
    {
      "cell_type": "markdown",
      "metadata": {
        "id": "4ryfF4bsPBjD",
        "colab_type": "text"
      },
      "source": [
        "The rectilinear activation function is used for most hidden units. The rectilinear activation function is often referred to as ReLU."
      ]
    },
    {
      "cell_type": "code",
      "metadata": {
        "id": "I1VxDbCCO4ma",
        "colab_type": "code",
        "outputId": "0388d685-f531-4ced-9ed4-6d72bc54c28d",
        "colab": {
          "base_uri": "https://localhost:8080/",
          "height": 241
        }
      },
      "source": [
        "%matplotlib inline\n",
        "import matplotlib.pyplot as plt\n",
        "import seaborn as sns\n",
        "## Compute the lectilinear function\n",
        "def reclu(x): return(max(0,x))\n",
        "x = [float(x)/100 for x in range(-100, 100)]\n",
        "y = [reclu(y) for y in x]\n",
        "## Plot the result\n",
        "def plot_figs(x,y,title, figsize = (4, 3)):\n",
        "    plt.figure(figsize=figsize).gca() # define axis gca = get current axes\n",
        "    sns.set_style(\"darkgrid\")\n",
        "    plt.plot(x, y)\n",
        "    plt.ylim((-0.1,1.0))\n",
        "    plt.title(title)\n",
        "    plt.xlabel('X')\n",
        "    plt.ylabel('Y')\n",
        "plot_figs(x,y,'The Rectilinear Function')"
      ],
      "execution_count": 0,
      "outputs": [
        {
          "output_type": "display_data",
          "data": {
            "image/png": "[encoded data removed]",
            "text/plain": [
              "<Figure size 288x216 with 1 Axes>"
            ]
          },
          "metadata": {
            "tags": []
          }
        }
      ]
    },
    {
      "cell_type": "markdown",
      "metadata": {
        "id": "Rorh4yxyPHgJ",
        "colab_type": "text"
      },
      "source": [
        "he sigmoid is used as the activation for the output layer of a binary classifier."
      ]
    },
    {
      "cell_type": "code",
      "metadata": {
        "id": "C8ArrnwbPJ3P",
        "colab_type": "code",
        "outputId": "53749af9-5f13-46b5-89d0-9995bae349fa",
        "colab": {
          "base_uri": "https://localhost:8080/",
          "height": 241
        }
      },
      "source": [
        "\n",
        "from math import exp\n",
        "def sigmoid(x): return exp(x)/(1 + exp(x))\n",
        "x = [float(x)/100 for x in range(-700, 700)]\n",
        "y = [sigmoid(y) for y in x]\n",
        "plot_figs(x,y,'The Logistic Function', figsize = (5,3))"
      ],
      "execution_count": 0,
      "outputs": [
        {
          "output_type": "display_data",
          "data": {
            "image/png": "[encoded data removed]",
            "text/plain": [
              "<Figure size 360x216 with 1 Axes>"
            ]
          },
          "metadata": {
            "tags": []
          }
        }
      ]
    },
    {
      "cell_type": "markdown",
      "metadata": {
        "id": "6FsP-kuwPNaP",
        "colab_type": "text"
      },
      "source": [
        "As a first step, we will create test data for 3 cases; x1 > x2, x1 = x2, and x1 < x2"
      ]
    },
    {
      "cell_type": "code",
      "metadata": {
        "id": "eMFeJnrWPQyk",
        "colab_type": "code",
        "outputId": "7972b536-05f0-4d53-f7d2-eebf6167b4a7",
        "colab": {
          "base_uri": "https://localhost:8080/",
          "height": 67
        }
      },
      "source": [
        "x = [(2,1), (1,1), (1,2)]\n",
        "for x_in in x:\n",
        "    print(x_in[0] - x_in[1])"
      ],
      "execution_count": 0,
      "outputs": [
        {
          "output_type": "stream",
          "text": [
            "1\n",
            "0\n",
            "-1\n"
          ],
          "name": "stdout"
        }
      ]
    },
    {
      "cell_type": "markdown",
      "metadata": {
        "id": "QC_pfkGGPu4n",
        "colab_type": "text"
      },
      "source": [
        "\n",
        "Now that we have our test data and test cases we can move to the next step. We will create the first weight tensor."
      ]
    },
    {
      "cell_type": "code",
      "metadata": {
        "id": "SSp9KfvFPoMq",
        "colab_type": "code",
        "outputId": "674e337a-7f36-4ea0-a259-0a8179b593e7",
        "colab": {
          "base_uri": "https://localhost:8080/",
          "height": 50
        }
      },
      "source": [
        "import numpy as np\n",
        "W_1 = np.array([[1.0, -1.0], [-1.0, 1.0]])\n",
        "print(W_1)"
      ],
      "execution_count": 0,
      "outputs": [
        {
          "output_type": "stream",
          "text": [
            "[[ 1. -1.]\n",
            " [-1.  1.]]\n"
          ],
          "name": "stdout"
        }
      ]
    },
    {
      "cell_type": "markdown",
      "metadata": {
        "id": "5EwTYuxGSaR_",
        "colab_type": "text"
      },
      "source": [
        "We also need the weight tensor, for the second set of weights."
      ]
    },
    {
      "cell_type": "code",
      "metadata": {
        "id": "NhGO6o98P1g7",
        "colab_type": "code",
        "outputId": "80c93b58-d4ee-4fc5-f53c-773632ab65ba",
        "colab": {
          "base_uri": "https://localhost:8080/",
          "height": 34
        }
      },
      "source": [
        "W_2 = np.array([1, -1])\n",
        "print(W_2)"
      ],
      "execution_count": 0,
      "outputs": [
        {
          "output_type": "stream",
          "text": [
            "[ 1 -1]\n"
          ],
          "name": "stdout"
        }
      ]
    },
    {
      "cell_type": "code",
      "metadata": {
        "id": "kyZPWY8ZSpBe",
        "colab_type": "code",
        "outputId": "bf12decc-d0e2-490b-be3c-106d503c38b6",
        "colab": {
          "base_uri": "https://localhost:8080/",
          "height": 67
        }
      },
      "source": [
        "\n",
        "def hidden(x, W):\n",
        "    \"\"\"Computes the output of the hidden layer\"\"\"\n",
        "    h = np.dot(W, x) # product of weights and input vector\n",
        "    return np.array([reclu(x) for x in h]) # apply activation function and return\n",
        "\n",
        "def output(h, W):\n",
        "    \"\"\"Computes the result for the hidden layer\"\"\"\n",
        "    return np.dot(W, h) # dot product of weight vector and input vector\n",
        "    \n",
        "## Run the test cases and check the results     \n",
        "for y in x:\n",
        "        h = hidden(y, W_1)\n",
        "        print(output(h, W_2))"
      ],
      "execution_count": 0,
      "outputs": [
        {
          "output_type": "stream",
          "text": [
            "1.0\n",
            "0\n",
            "-1.0\n"
          ],
          "name": "stdout"
        }
      ]
    },
    {
      "cell_type": "markdown",
      "metadata": {
        "id": "8v0z8UGaNpYh",
        "colab_type": "text"
      },
      "source": [
        "#Excercise\n"
      ]
    },
    {
      "cell_type": "code",
      "metadata": {
        "id": "mn_R6y4LNmxy",
        "colab_type": "code",
        "colab": {
          "base_uri": "https://localhost:8080/",
          "height": 522
        },
        "outputId": "e287b5cb-20cf-427b-b678-fc1795b8c1df"
      },
      "source": [
        "print('Input Test Data')\n",
        "x = [(0,0), (0,1), (1,0), (1,1)]\n",
        "for x_in in x:\n",
        "    print(x_in[0] ^ x_in[1])\n",
        "print('')\n",
        "   \n",
        "#create 1st Weight tensor\n",
        "import numpy as np\n",
        "W_1 = np.array([[1.0, -1.0], [-1.0, 1.0]])\n",
        "print(W_1)\n",
        "\n",
        "#create 2nd Weight tensor\n",
        "\n",
        "W_2 = np.array([1, 1])\n",
        "print(W_2)\n",
        "\n",
        "def hidden(x, W):\n",
        "    \"\"\"Computes the output of the hidden layer\"\"\"\n",
        "    h = np.dot(W, x) # product of weights and input vector\n",
        "    return np.array([reclu(x) for x in h]) # apply activation function and return\n",
        "\n",
        "def output(h, W):\n",
        "    \"\"\"Computes the result for the hidden layer\"\"\"\n",
        "    return np.dot(W, h) # dot product of weight vector and input vector\n",
        "   \n",
        "## Run the test cases and check the results    \n",
        "print('output data - should read same as input')\n",
        "for y in x:\n",
        "         h = hidden(y, W_1)\n",
        "         print(output(h, W_2))"
      ],
      "execution_count": 2,
      "outputs": [
        {
          "output_type": "stream",
          "text": [
            "Input Test Data\n",
            "0\n",
            "1\n",
            "1\n",
            "0\n",
            "\n",
            "[[ 1. -1.]\n",
            " [-1.  1.]]\n",
            "[1 1]\n",
            "output data - should read same as input\n"
          ],
          "name": "stdout"
        },
        {
          "output_type": "error",
          "ename": "NameError",
          "evalue": "ignored",
          "traceback": [
            "\u001b[0;31m---------------------------------------------------------------------------\u001b[0m",
            "\u001b[0;31mNameError\u001b[0m                                 Traceback (most recent call last)",
            "\u001b[0;32m<ipython-input-2-0b9df44c04e7>\u001b[0m in \u001b[0;36m<module>\u001b[0;34m()\u001b[0m\n\u001b[1;32m     27\u001b[0m \u001b[0mprint\u001b[0m\u001b[0;34m(\u001b[0m\u001b[0;34m'output data - should read same as input'\u001b[0m\u001b[0;34m)\u001b[0m\u001b[0;34m\u001b[0m\u001b[0;34m\u001b[0m\u001b[0m\n\u001b[1;32m     28\u001b[0m \u001b[0;32mfor\u001b[0m \u001b[0my\u001b[0m \u001b[0;32min\u001b[0m \u001b[0mx\u001b[0m\u001b[0;34m:\u001b[0m\u001b[0;34m\u001b[0m\u001b[0;34m\u001b[0m\u001b[0m\n\u001b[0;32m---> 29\u001b[0;31m          \u001b[0mh\u001b[0m \u001b[0;34m=\u001b[0m \u001b[0mhidden\u001b[0m\u001b[0;34m(\u001b[0m\u001b[0my\u001b[0m\u001b[0;34m,\u001b[0m \u001b[0mW_1\u001b[0m\u001b[0;34m)\u001b[0m\u001b[0;34m\u001b[0m\u001b[0;34m\u001b[0m\u001b[0m\n\u001b[0m\u001b[1;32m     30\u001b[0m          \u001b[0mprint\u001b[0m\u001b[0;34m(\u001b[0m\u001b[0moutput\u001b[0m\u001b[0;34m(\u001b[0m\u001b[0mh\u001b[0m\u001b[0;34m,\u001b[0m \u001b[0mW_2\u001b[0m\u001b[0;34m)\u001b[0m\u001b[0;34m)\u001b[0m\u001b[0;34m\u001b[0m\u001b[0;34m\u001b[0m\u001b[0m\n",
            "\u001b[0;32m<ipython-input-2-0b9df44c04e7>\u001b[0m in \u001b[0;36mhidden\u001b[0;34m(x, W)\u001b[0m\n\u001b[1;32m     18\u001b[0m     \u001b[0;34m\"\"\"Computes the output of the hidden layer\"\"\"\u001b[0m\u001b[0;34m\u001b[0m\u001b[0;34m\u001b[0m\u001b[0m\n\u001b[1;32m     19\u001b[0m     \u001b[0mh\u001b[0m \u001b[0;34m=\u001b[0m \u001b[0mnp\u001b[0m\u001b[0;34m.\u001b[0m\u001b[0mdot\u001b[0m\u001b[0;34m(\u001b[0m\u001b[0mW\u001b[0m\u001b[0;34m,\u001b[0m \u001b[0mx\u001b[0m\u001b[0;34m)\u001b[0m \u001b[0;31m# product of weights and input vector\u001b[0m\u001b[0;34m\u001b[0m\u001b[0;34m\u001b[0m\u001b[0m\n\u001b[0;32m---> 20\u001b[0;31m     \u001b[0;32mreturn\u001b[0m \u001b[0mnp\u001b[0m\u001b[0;34m.\u001b[0m\u001b[0marray\u001b[0m\u001b[0;34m(\u001b[0m\u001b[0;34m[\u001b[0m\u001b[0mreclu\u001b[0m\u001b[0;34m(\u001b[0m\u001b[0mx\u001b[0m\u001b[0;34m)\u001b[0m \u001b[0;32mfor\u001b[0m \u001b[0mx\u001b[0m \u001b[0;32min\u001b[0m \u001b[0mh\u001b[0m\u001b[0;34m]\u001b[0m\u001b[0;34m)\u001b[0m \u001b[0;31m# apply activation function and return\u001b[0m\u001b[0;34m\u001b[0m\u001b[0;34m\u001b[0m\u001b[0m\n\u001b[0m\u001b[1;32m     21\u001b[0m \u001b[0;34m\u001b[0m\u001b[0m\n\u001b[1;32m     22\u001b[0m \u001b[0;32mdef\u001b[0m \u001b[0moutput\u001b[0m\u001b[0;34m(\u001b[0m\u001b[0mh\u001b[0m\u001b[0;34m,\u001b[0m \u001b[0mW\u001b[0m\u001b[0;34m)\u001b[0m\u001b[0;34m:\u001b[0m\u001b[0;34m\u001b[0m\u001b[0;34m\u001b[0m\u001b[0m\n",
            "\u001b[0;32m<ipython-input-2-0b9df44c04e7>\u001b[0m in \u001b[0;36m<listcomp>\u001b[0;34m(.0)\u001b[0m\n\u001b[1;32m     18\u001b[0m     \u001b[0;34m\"\"\"Computes the output of the hidden layer\"\"\"\u001b[0m\u001b[0;34m\u001b[0m\u001b[0;34m\u001b[0m\u001b[0m\n\u001b[1;32m     19\u001b[0m     \u001b[0mh\u001b[0m \u001b[0;34m=\u001b[0m \u001b[0mnp\u001b[0m\u001b[0;34m.\u001b[0m\u001b[0mdot\u001b[0m\u001b[0;34m(\u001b[0m\u001b[0mW\u001b[0m\u001b[0;34m,\u001b[0m \u001b[0mx\u001b[0m\u001b[0;34m)\u001b[0m \u001b[0;31m# product of weights and input vector\u001b[0m\u001b[0;34m\u001b[0m\u001b[0;34m\u001b[0m\u001b[0m\n\u001b[0;32m---> 20\u001b[0;31m     \u001b[0;32mreturn\u001b[0m \u001b[0mnp\u001b[0m\u001b[0;34m.\u001b[0m\u001b[0marray\u001b[0m\u001b[0;34m(\u001b[0m\u001b[0;34m[\u001b[0m\u001b[0mreclu\u001b[0m\u001b[0;34m(\u001b[0m\u001b[0mx\u001b[0m\u001b[0;34m)\u001b[0m \u001b[0;32mfor\u001b[0m \u001b[0mx\u001b[0m \u001b[0;32min\u001b[0m \u001b[0mh\u001b[0m\u001b[0;34m]\u001b[0m\u001b[0;34m)\u001b[0m \u001b[0;31m# apply activation function and return\u001b[0m\u001b[0;34m\u001b[0m\u001b[0;34m\u001b[0m\u001b[0m\n\u001b[0m\u001b[1;32m     21\u001b[0m \u001b[0;34m\u001b[0m\u001b[0m\n\u001b[1;32m     22\u001b[0m \u001b[0;32mdef\u001b[0m \u001b[0moutput\u001b[0m\u001b[0;34m(\u001b[0m\u001b[0mh\u001b[0m\u001b[0;34m,\u001b[0m \u001b[0mW\u001b[0m\u001b[0;34m)\u001b[0m\u001b[0;34m:\u001b[0m\u001b[0;34m\u001b[0m\u001b[0;34m\u001b[0m\u001b[0m\n",
            "\u001b[0;31mNameError\u001b[0m: name 'reclu' is not defined"
          ]
        }
      ]
    }
  ]
}